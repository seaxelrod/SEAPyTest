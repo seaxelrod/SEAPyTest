{
 "cells": [
  {
   "cell_type": "code",
   "execution_count": 33,
   "metadata": {
    "collapsed": false
   },
   "outputs": [],
   "source": [
    "import os\n",
    "import sys\n",
    "import time\n",
    "from numpy import * "
   ]
  },
  {
   "cell_type": "code",
   "execution_count": 34,
   "metadata": {
    "collapsed": false
   },
   "outputs": [],
   "source": [
    "def tic():\n",
    "    #Homemade version of matlab tic and toc functions\n",
    "    global startTime_for_tictoc\n",
    "    startTime_for_tictoc = time.time()\n",
    "\n",
    "def toc(verbose = True):\n",
    "    if 'startTime_for_tictoc' in globals():\n",
    "        t = time.time() - startTime_for_tictoc;\n",
    "        print(\"Elapsed time is \" + str(t) + \" seconds.\")\n",
    "    else:\n",
    "        print(\"Toc: start time not set\")\n",
    "\n",
    "    return(t)"
   ]
  },
  {
   "cell_type": "code",
   "execution_count": 35,
   "metadata": {
    "collapsed": true
   },
   "outputs": [],
   "source": [
    "def speedTest1(testType = 'while') :\n",
    "    # on 2019-02-22, i got t=0.94 sec for N=1e7, whereas matlab took 0.028\n",
    "    # \n",
    "    tic()\n",
    "    N = int(1e7)\n",
    "    if(testType == 'while'):\n",
    "        i=1\n",
    "        s=0\n",
    "        while(i<N) :\n",
    "            i += 1\n",
    "            s += i\n",
    "    elif(testType == 'range'):\n",
    "        s = 0\n",
    "        for i in range(N):\n",
    "            s += i\n",
    "    elif(testType == 'vectorSlow') :\n",
    "        s = sum(range(N+1))\n",
    "\n",
    "    elif(testType == 'vector') :\n",
    "        s = sum(arange(N))\n",
    "        \n",
    "    else:\n",
    "        Raise('bad testType')\n",
    "    \n",
    "\n",
    "    t = toc(verbose = False) \n",
    "    print(\"N={:g}, sum={:g}\".format(N,s))\n",
    "    print(\"t={:f}\".format(t))"
   ]
  },
  {
   "cell_type": "code",
   "execution_count": 37,
   "metadata": {
    "collapsed": false
   },
   "outputs": [
    {
     "name": "stdout",
     "output_type": "stream",
     "text": [
      "Elapsed time is 0.8027818202972412 seconds.\n",
      "N=1e+07, sum=5e+13\n",
      "t=0.802782\n"
     ]
    }
   ],
   "source": [
    "speedTest1(\"while\")"
   ]
  },
  {
   "cell_type": "code",
   "execution_count": 38,
   "metadata": {
    "collapsed": false
   },
   "outputs": [
    {
     "name": "stdout",
     "output_type": "stream",
     "text": [
      "Elapsed time is 0.4939613342285156 seconds.\n",
      "N=1e+07, sum=5e+13\n",
      "t=0.493961\n"
     ]
    }
   ],
   "source": [
    "speedTest1(\"range\")"
   ]
  },
  {
   "cell_type": "code",
   "execution_count": 39,
   "metadata": {
    "collapsed": false
   },
   "outputs": [
    {
     "name": "stdout",
     "output_type": "stream",
     "text": [
      "Elapsed time is 1.712623119354248 seconds.\n",
      "N=1e+07, sum=5e+13\n",
      "t=1.712623\n"
     ]
    }
   ],
   "source": [
    "speedTest1(\"vectorSlow\")"
   ]
  },
  {
   "cell_type": "code",
   "execution_count": 40,
   "metadata": {
    "collapsed": false
   },
   "outputs": [
    {
     "name": "stdout",
     "output_type": "stream",
     "text": [
      "Elapsed time is 0.033583879470825195 seconds.\n",
      "N=1e+07, sum=5e+13\n",
      "t=0.033584\n"
     ]
    }
   ],
   "source": [
    "speedTest1(\"vector\")"
   ]
  },
  {
   "cell_type": "code",
   "execution_count": null,
   "metadata": {
    "collapsed": true
   },
   "outputs": [],
   "source": []
  }
 ],
 "metadata": {
  "kernelspec": {
   "display_name": "Python 3",
   "language": "python",
   "name": "python3"
  },
  "language_info": {
   "codemirror_mode": {
    "name": "ipython",
    "version": 3
   },
   "file_extension": ".py",
   "mimetype": "text/x-python",
   "name": "python",
   "nbconvert_exporter": "python",
   "pygments_lexer": "ipython3",
   "version": "3.6.8"
  }
 },
 "nbformat": 4,
 "nbformat_minor": 2
}
