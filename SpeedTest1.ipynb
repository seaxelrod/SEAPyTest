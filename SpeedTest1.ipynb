{
 "cells": [
  {
   "cell_type": "markdown",
   "metadata": {},
   "source": [
    "## Jupyeter notebook with benchmark of simple python loops\n",
    "#### Intended for people transitioning from matlab"
   ]
  },
  {
   "cell_type": "markdown",
   "metadata": {},
   "source": [
    "## Compare with matlab benchmark code:\n",
    "```\n",
    "switch(testType)\n",
    "  case 'while',\n",
    "    i = 1;\n",
    "    s= 0;\n",
    "    while(i<N)\n",
    "        i = i+1;\n",
    "        s = s+i;\n",
    "    end\n",
    "\n",
    "  case 'range',\n",
    "    s = 0;\n",
    "    for i = 1:N\n",
    "        s = s+i;\n",
    "    end\n",
    "\n",
    "  case 'vector',\n",
    "    s = sum(1:N)\n",
    "\n",
    "  otherwise,\n",
    "    error('unknown testType');\n",
    "end\n",
    "    \n",
    "t = toc;\n",
    "    \n",
    "% fprintf(1, 'N=%g, s=%g, t=%g\\n', N, s,t);\n",
    "fprintf(1, 't=%g secs\\n', t);\n",
    "```"
   ]
  },
  {
   "cell_type": "markdown",
   "metadata": {},
   "source": [
    "## Matlab Output:\n",
    "```\n",
    ">> speedTest1('while')\n",
    "t=0.0249377 secs\n",
    ">> speedTest1('range')\n",
    "t=0.0282229 secs\n",
    ">> speedTest1('vector')\n",
    "t=0.0652487 secs\n",
    "```\n",
    "#### Note: Second run of vector is quicker in matlab, just like it is below in python\n",
    "```\n",
    ">> speedTest1('vector')\n",
    "t=0.0359858 secs\n",
    "```"
   ]
  },
  {
   "cell_type": "code",
   "execution_count": null,
   "metadata": {
    "collapsed": true
   },
   "outputs": [],
   "source": [
    "import os\n",
    "import sys\n",
    "import time\n",
    "import numpy as np"
   ]
  },
  {
   "cell_type": "markdown",
   "metadata": {},
   "source": [
    "## Version of matlab *tic* and *toc* functions\n",
    "#### Modified from point 15 in https://stackoverflow.com/questions/5849800/tic-toc-functions-analog-in-python\n",
    "#### Of course we could (better) use ipython `%time` or `%timeit`, but this notebook is for poeple moving from matlab"
   ]
  },
  {
   "cell_type": "code",
   "execution_count": 2,
   "metadata": {
    "collapsed": false
   },
   "outputs": [],
   "source": [
    "def tic():\n",
    "    global startTime_for_tictoc\n",
    "    startTime_for_tictoc = time.time()\n",
    "\n",
    "def toc(verbose = True):\n",
    "    if 'startTime_for_tictoc' in globals():\n",
    "        t = time.time() - startTime_for_tictoc;\n",
    "        if(verbose):\n",
    "            print(\"Elapsed time is \" + str(t) + \" seconds.\")\n",
    "    else:\n",
    "        if(verbose):\n",
    "            print(\"Toc: start time not set\")\n",
    "\n",
    "    return(t)"
   ]
  },
  {
   "cell_type": "markdown",
   "metadata": {},
   "source": [
    "## Define *speedTest1* function"
   ]
  },
  {
   "cell_type": "code",
   "execution_count": 3,
   "metadata": {
    "collapsed": true
   },
   "outputs": [],
   "source": [
    "def speedTest1(testType = 'while') :\n",
    "    # on 2019-02-22, i got t=0.94 sec for N=1e7, whereas matlab took 0.028\n",
    "    # \n",
    "    tic()\n",
    "    N = int(1e7)\n",
    "    if(testType == 'while'):\n",
    "        i=1\n",
    "        s=0\n",
    "        while(i<N) :\n",
    "            i += 1\n",
    "            s += i\n",
    "    elif(testType == 'range'):\n",
    "        s = 0\n",
    "        for i in range(N):\n",
    "            s += i\n",
    "    elif(testType == 'vectorSlow') :\n",
    "        s = sum(range(N+1))\n",
    "\n",
    "    elif(testType == 'vector') :\n",
    "        s = np.sum(np.arange(N))\n",
    "        \n",
    "    else:\n",
    "        Raise('bad testType')\n",
    "    \n",
    "\n",
    "    t = toc(verbose = False) \n",
    "    # print(\"speedTest1({:s}), N={:g}, sum={:g}\".format(testType, N,s))\n",
    "    print(\"t={:f}\".format(t))"
   ]
  },
  {
   "cell_type": "markdown",
   "metadata": {},
   "source": [
    "## Run some *speedTest*s"
   ]
  },
  {
   "cell_type": "code",
   "execution_count": 4,
   "metadata": {
    "collapsed": false
   },
   "outputs": [
    {
     "name": "stdout",
     "output_type": "stream",
     "text": [
      "t=0.772667\n"
     ]
    }
   ],
   "source": [
    "speedTest1(\"while\")"
   ]
  },
  {
   "cell_type": "code",
   "execution_count": 5,
   "metadata": {
    "collapsed": false
   },
   "outputs": [
    {
     "name": "stdout",
     "output_type": "stream",
     "text": [
      "t=0.491040\n"
     ]
    }
   ],
   "source": [
    "speedTest1(\"range\")"
   ]
  },
  {
   "cell_type": "code",
   "execution_count": 6,
   "metadata": {
    "collapsed": false
   },
   "outputs": [
    {
     "name": "stdout",
     "output_type": "stream",
     "text": [
      "t=0.153145\n"
     ]
    }
   ],
   "source": [
    "speedTest1(\"vectorSlow\")"
   ]
  },
  {
   "cell_type": "code",
   "execution_count": 7,
   "metadata": {
    "collapsed": false
   },
   "outputs": [
    {
     "name": "stdout",
     "output_type": "stream",
     "text": [
      "t=0.066798\n"
     ]
    }
   ],
   "source": [
    "speedTest1(\"vector\")"
   ]
  },
  {
   "cell_type": "markdown",
   "metadata": {},
   "source": [
    "**Second run of `speedTest1(\"vector\")` is faster**"
   ]
  },
  {
   "cell_type": "code",
   "execution_count": 9,
   "metadata": {
    "collapsed": false
   },
   "outputs": [
    {
     "name": "stdout",
     "output_type": "stream",
     "text": [
      "t=0.036681\n"
     ]
    }
   ],
   "source": [
    "speedTest1(\"vector\")"
   ]
  }
 ],
 "metadata": {
  "kernelspec": {
   "display_name": "Python 3",
   "language": "python",
   "name": "python3"
  },
  "language_info": {
   "codemirror_mode": {
    "name": "ipython",
    "version": 3
   },
   "file_extension": ".py",
   "mimetype": "text/x-python",
   "name": "python",
   "nbconvert_exporter": "python",
   "pygments_lexer": "ipython3",
   "version": "3.6.6"
  }
 },
 "nbformat": 4,
 "nbformat_minor": 2
}
