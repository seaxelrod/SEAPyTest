{
 "cells": [
  {
   "cell_type": "code",
   "execution_count": 1,
   "metadata": {
    "collapsed": false
   },
   "outputs": [],
   "source": [
    "import os\n",
    "import sys\n",
    "import time\n",
    "import numpy as np"
   ]
  },
  {
   "cell_type": "code",
   "execution_count": 2,
   "metadata": {
    "collapsed": false
   },
   "outputs": [],
   "source": [
    "def tic():\n",
    "    #Homemade version of matlab tic and toc functions\n",
    "    global startTime_for_tictoc\n",
    "    startTime_for_tictoc = time.time()\n",
    "\n",
    "def toc(verbose = True):\n",
    "    if 'startTime_for_tictoc' in globals():\n",
    "        t = time.time() - startTime_for_tictoc;\n",
    "        print(\"Elapsed time is \" + str(t) + \" seconds.\")\n",
    "    else:\n",
    "        print(\"Toc: start time not set\")\n",
    "\n",
    "    return(t)"
   ]
  },
  {
   "cell_type": "code",
   "execution_count": 3,
   "metadata": {
    "collapsed": true
   },
   "outputs": [],
   "source": [
    "def speedTest1(testType = 'while') :\n",
    "    # on 2019-02-22, i got t=0.94 sec for N=1e7, whereas matlab took 0.028\n",
    "    # \n",
    "    tic()\n",
    "    N = int(1e7)\n",
    "    if(testType == 'while'):\n",
    "        i=1\n",
    "        s=0\n",
    "        while(i<N) :\n",
    "            i += 1\n",
    "            s += i\n",
    "    elif(testType == 'range'):\n",
    "        s = 0\n",
    "        for i in range(N):\n",
    "            s += i\n",
    "    elif(testType == 'vectorSlow') :\n",
    "        s = sum(range(N+1))\n",
    "\n",
    "    elif(testType == 'vector') :\n",
    "        s = np.sum(np.arange(N))\n",
    "        \n",
    "    else:\n",
    "        Raise('bad testType')\n",
    "    \n",
    "\n",
    "    t = toc(verbose = False) \n",
    "    print(\"N={:g}, sum={:g}\".format(N,s))\n",
    "    print(\"t={:f}\".format(t))"
   ]
  },
  {
   "cell_type": "code",
   "execution_count": 12,
   "metadata": {
    "collapsed": false
   },
   "outputs": [
    {
     "name": "stdout",
     "output_type": "stream",
     "text": [
      "Elapsed time is 0.8655939102172852 seconds.\n",
      "N=1e+07, sum=5e+13\n",
      "t=0.865594\n"
     ]
    }
   ],
   "source": [
    "speedTest1(\"while\")"
   ]
  },
  {
   "cell_type": "code",
   "execution_count": 13,
   "metadata": {
    "collapsed": false
   },
   "outputs": [
    {
     "name": "stdout",
     "output_type": "stream",
     "text": [
      "Elapsed time is 0.5260241031646729 seconds.\n",
      "N=1e+07, sum=5e+13\n",
      "t=0.526024\n"
     ]
    }
   ],
   "source": [
    "speedTest1(\"range\")"
   ]
  },
  {
   "cell_type": "code",
   "execution_count": 14,
   "metadata": {
    "collapsed": false
   },
   "outputs": [
    {
     "name": "stdout",
     "output_type": "stream",
     "text": [
      "Elapsed time is 0.14893388748168945 seconds.\n",
      "N=1e+07, sum=5e+13\n",
      "t=0.148934\n"
     ]
    }
   ],
   "source": [
    "speedTest1(\"vectorSlow\")"
   ]
  },
  {
   "cell_type": "code",
   "execution_count": 7,
   "metadata": {
    "collapsed": false
   },
   "outputs": [
    {
     "name": "stdout",
     "output_type": "stream",
     "text": [
      "Elapsed time is 0.07557511329650879 seconds.\n",
      "N=1e+07, sum=5e+13\n",
      "t=0.075575\n"
     ]
    }
   ],
   "source": [
    "speedTest1(\"vector\")"
   ]
  },
  {
   "cell_type": "markdown",
   "metadata": {},
   "source": [
    "**Second run is faster**"
   ]
  },
  {
   "cell_type": "code",
   "execution_count": 11,
   "metadata": {
    "collapsed": false
   },
   "outputs": [
    {
     "name": "stdout",
     "output_type": "stream",
     "text": [
      "Elapsed time is 0.0250091552734375 seconds.\n",
      "N=1e+07, sum=5e+13\n",
      "t=0.025009\n"
     ]
    }
   ],
   "source": [
    "speedTest1(\"vector\")"
   ]
  },
  {
   "cell_type": "code",
   "execution_count": null,
   "metadata": {
    "collapsed": true
   },
   "outputs": [],
   "source": []
  },
  {
   "cell_type": "code",
   "execution_count": null,
   "metadata": {
    "collapsed": true
   },
   "outputs": [],
   "source": []
  }
 ],
 "metadata": {
  "kernelspec": {
   "display_name": "Python 3",
   "language": "python",
   "name": "python3"
  },
  "language_info": {
   "codemirror_mode": {
    "name": "ipython",
    "version": 3
   },
   "file_extension": ".py",
   "mimetype": "text/x-python",
   "name": "python",
   "nbconvert_exporter": "python",
   "pygments_lexer": "ipython3",
   "version": "3.6.6"
  }
 },
 "nbformat": 4,
 "nbformat_minor": 2
}
